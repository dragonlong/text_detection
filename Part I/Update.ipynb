{
 "cells": [
  {
   "cell_type": "markdown",
   "metadata": {},
   "source": [
    "# Overview \n",
    "### 2018/03/13,  6th Meeting  Xiaolong Li"
   ]
  },
  {
   "cell_type": "markdown",
   "metadata": {},
   "source": [
    "- **Recap and current progress** \n",
    "    - Papers following these days:\n",
    "        - EAST: An Efficient and Accurate Scene Text Detector[EAST](https://arxiv.org/pdf/1704.03155.pdf)\n",
    "        - Tracking The Untrackable: Learning to Track Multiple Cues with Long-Term Dependencies[AMIR](https://arxiv.org/pdf/1701.01909.pdf)\n",
    "    - Poster design and presentation\n",
    "    - Working RNN training on both local and remote GPU machine\n",
    "    - A complete text detection CNN training on ARC clusters（Marth 11th, 2018）\n",
    "- **Questions: What kind of encoding should be put into LSTM?**\n",
    "- **New Papers（2018）**\n",
    "- **Next step: Preparations for writing**\n",
    "    "
   ]
  },
  {
   "cell_type": "markdown",
   "metadata": {},
   "source": [
    "### 1. Current Implementation\n",
    "- Single layer LSTM RNN, 15 boxes(four vertexs coordinates) default as input, 40 boxes default for targets\n",
    "- 3 frames as sequence length\n",
    "- MSE loss to compare RNN output and groundtruth\n",
    "- 260 frames for training, 20 frames for validation and 21 frames for testing\n",
    "<img src=\"images/RNN_loss_final.png\" style=\"width:800px;height:500px;\">\n",
    "<caption><center> <u> <font color='purple'> **Figure 1** </u><font color='purple'>  : **Training Profile**<br> Model . </center></caption>"
   ]
  },
  {
   "cell_type": "markdown",
   "metadata": {},
   "source": [
    "# 2 But what should be followed next: \n",
    "## Questions and Observations\n",
    "### Q1: How to evaluate current implementation\n",
    "- Observation in ICDAR 2015\n",
    "\n",
    "### Q2: Is current data enough?\n",
    "- only 301 frames from one video\n",
    "\n",
    "### Q3: What kind of encoding should be put into LSTM?\n",
    "- Heatmap & Feature Vector\n",
    "- Vector of Image patches after CNN and similiarity encoding RNN\n",
    "- Rough predictions from still Image detector\n"
   ]
  },
  {
   "cell_type": "markdown",
   "metadata": {},
   "source": [
    "## 2.1 Evaluation\n",
    "## 2.2 Data Process on ICDAR 2015\n",
    "## 2.3 Retraining on EAST\n",
    "<img src=\"images/heatmap.png\" style=\"width:1000px;height:400px;\">\n",
    "<caption><center> <u> <font color='purple'> **Figure 2** </u><font color='purple'>  : **Training Profile**<br> Model test . </center></caption>"
   ]
  },
  {
   "cell_type": "markdown",
   "metadata": {},
   "source": [
    "# 3. New Papers 2018\n",
    "- [PixelLink: Detecting Scene Text via Instance Segmentation](https://arxiv.org/abs/1801.01315)\n",
    "arXiv:1801.01315v1\n",
    "- [Multi-Oriented Scene Text Detection via Corner Localization and Region Segmentation](https://arxiv.org/abs/1802.08948)\n",
    "arXiv:1802.08948v2"
   ]
  },
  {
   "cell_type": "markdown",
   "metadata": {},
   "source": [
    "# 4. Next Step and Plan\n",
    "- Heatmap processing and RNN topology optimization\n",
    "- Preparations for writings:\n",
    "    - Potential conference to participate\n",
    "       - [BMVC](http://bmvc2018.org/callforwsproposal.html)(Deadline: April 30th)\n",
    "       - [NIPS2018](https://nips.cc/Conferences/2018/Dates)(Deadline: May 18th)\n",
    "       - [ACCV](http://accv2018.net/)(July 5th)\n",
    "       - [CVPR](http://cvpr2018.thecvf.com/)(Opportunity to register and participate?)\n",
    "- Qualifying for Ph.D Program\n",
    "- Time to Go back China for F1-VISA renewing in summer\n",
    "\n"
   ]
  },
  {
   "cell_type": "markdown",
   "metadata": {
    "collapsed": true
   },
   "source": [
    "# Appendix \n",
    "<img src=\"images/train.png\" style=\"width:700px;height:450px;\">\n",
    "<caption><center> <u> <font color='purple'> **Figure 3** </u><font color='purple'>  : **Training Procedure with Deep learning**<br> </center></caption>\n"
   ]
  },
  {
   "cell_type": "code",
   "execution_count": null,
   "metadata": {
    "collapsed": true
   },
   "outputs": [],
   "source": []
  }
 ],
 "metadata": {
  "anaconda-cloud": {},
  "kernelspec": {
   "display_name": "Python [conda root]",
   "language": "python",
   "name": "conda-root-py"
  },
  "language_info": {
   "codemirror_mode": {
    "name": "ipython",
    "version": 2
   },
   "file_extension": ".py",
   "mimetype": "text/x-python",
   "name": "python",
   "nbconvert_exporter": "python",
   "pygments_lexer": "ipython2",
   "version": "2.7.12"
  }
 },
 "nbformat": 4,
 "nbformat_minor": 2
}
